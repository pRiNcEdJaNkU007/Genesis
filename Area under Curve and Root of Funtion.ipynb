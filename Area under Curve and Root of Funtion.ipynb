{
 "cells": [
  {
   "cell_type": "markdown",
   "id": "e0c6ab39-7040-4fd9-97ec-0b830eafe971",
   "metadata": {},
   "source": [
    "# Assignment (1)"
   ]
  },
  {
   "cell_type": "markdown",
   "id": "7df19541-68bc-4593-9175-4a1785ba11d5",
   "metadata": {},
   "source": [
    "### 1) Finding the area under the curve of a function"
   ]
  },
  {
   "cell_type": "code",
   "execution_count": 6,
   "id": "4cd9014e-d442-40a9-b963-7fb9feff773f",
   "metadata": {},
   "outputs": [
    {
     "name": "stdin",
     "output_type": "stream",
     "text": [
      "Enter the function equation! sin(0.5*x**2) + x -1 \n",
      "Enter the parameters separated by comma! 1,2\n"
     ]
    },
    {
     "name": "stdout",
     "output_type": "stream",
     "text": [
      "The area under the curve f(x) = sin(0.5*x**2) + x -1  in the interval [1.0 - 2.0] is:  1.3339096641145793.\n"
     ]
    }
   ],
   "source": [
    "#From math module it imports functions like exp(), sin() and so on.  \n",
    "from math import *  \n",
    "#It asks the user to write the equation, for example: sin(0.5*x**2) + x -1  \n",
    "function_string = input(\"Enter the function equation!\")  \n",
    "# It converts your function into a valide Python function  \n",
    "exec(\"def f(x): return \" + function_string)  \n",
    "# It asks the user to write the parameters for a, b and n (like 1, 2, 100)  \n",
    "# or only the limits (like 1, 2).  \n",
    "parameters_string = input(\"Enter the parameters separated by comma!\")  \n",
    "#It checks if nothing is entered, then it puts 0 there.  \n",
    "parameters_string = \"0, 2\" if parameters_string==\"\" else parameters_string  \n",
    "#It converts your intial values into a list  \n",
    "exec (\"xs=[\" + parameters_string + \", 50]\")  \n",
    "#It initializes the parameters.  \n",
    "a = float(xs[0])  \n",
    "b = float(xs[1])  \n",
    "n = 50 if len(xs) < 3 else xs[2]  \n",
    "#It checks if n is an event number (which must be).  \n",
    "n = n + 1 if n // 2 == 1 else n  \n",
    "h = (b - a) / n  # Use the formula for the step size h = (b - a) / n <sup className=\"rounded-full text-xs cursor-pointer [&>*]:!text-white h-4 w-4 px-1 bg-zinc-400 hover:bg-zinc-500 dark:bg-zinc-700 hover:dark:bg-zinc-600\">[6](https://pythonnumericalmethods.berkeley.edu/notebooks/chapter21.00-Numerical-Integration.html)</sup> \n",
    "m = 1 # it controls 2 and 4 coefficient in each loop if you write  \n",
    "     # (3+m)f(x), and after that let (m = -m) inside the loop.  \n",
    "#initialize the area as the sum of the first and last term, out of the  \n",
    "# loop. The rest are added with (3+m)f(x) inside the loop. Then, in each  \n",
    "# loop (m = -m).  \n",
    "area = f(a) + f(b)  \n",
    "for k in range(1, n):\n",
    "    x = a + k * h\n",
    "    area = area + (3 + m) * f(x) # Use the Trapezoidal Rule formula <sup className=\"rounded-full text-xs cursor-pointer [&>*]:!text-white h-4 w-4 px-1 bg-zinc-400 hover:bg-zinc-500 dark:bg-zinc-700 hover:dark:bg-zinc-600\">[3](https://stackoverflow.com/questions/5046845/mathematical-integration-of-a-function-in-python)</sup> \n",
    "    m = -m  \n",
    "integral = h / 3 * area # Use the Trapezoidal Rule formula <sup className=\"rounded-full text-xs cursor-pointer [&>*]:!text-white h-4 w-4 px-1 bg-zinc-400 hover:bg-zinc-500 dark:bg-zinc-700 hover:dark:bg-zinc-600\">[3](https://stackoverflow.com/questions/5046845/mathematical-integration-of-a-function-in-python)</sup> \n",
    "print(\"The area under the curve f(x) = {} in the interval [{} - {}] is:  {}.\".format(function_string, a, b, integral))\n"
   ]
  },
  {
   "cell_type": "markdown",
   "id": "38150651-13c5-483a-8978-976596a82a6d",
   "metadata": {},
   "source": [
    "### 2) Finding the roots of a function"
   ]
  },
  {
   "cell_type": "code",
   "execution_count": 5,
   "id": "e4800bc0-d97b-4036-8d05-11bcd1cdd014",
   "metadata": {
    "editable": true,
    "slideshow": {
     "slide_type": ""
    },
    "tags": []
   },
   "outputs": [
    {
     "name": "stdin",
     "output_type": "stream",
     "text": [
      "Enter the function equation! sin(0.5*x**2) + x -1\n",
      "Enter initial values separated by comma! 1,2\n",
      "Select a method of root-finding (secant, steffen)! secant\n"
     ]
    },
    {
     "name": "stdout",
     "output_type": "stream",
     "text": [
      "Using the secant method, the function f(x) = sin(0.5*x**2) + x -1 has the root: 0.7339227409636635.\n"
     ]
    }
   ],
   "source": [
    "\n",
    "#From math module it imports functions like exp(), sin() and so on.\n",
    "from math import *\n",
    "\n",
    "#Asks the user to write the equation, for example: sin(0.5*x**2) + x -1\n",
    "function_string = input(\"Enter the function equation!\")\n",
    "\n",
    "# It converts your function into a valide Python function\n",
    "exec(\"def f(x): return \" + function_string)\n",
    "\n",
    "# Asks the user to write a single intial value (like 0.5) or a pair of intial values (like 0, 0.5).\n",
    "initial_values_string = input(\"Enter initial values separated by comma!\")\n",
    "\n",
    "#It checks if nothings is entered, then it puts 0 there.\n",
    "initial_values_string = \"0\" if initial_values_string==\"\" else initial_values_string\n",
    "\n",
    "#It converts your intial values into a list\n",
    "exec (\"xs=[\" + initial_values_string + \",0]\")\n",
    "\n",
    "#Write the method of interest: \"set\" or \"stef\".\n",
    "the_method = input(\"Select a method of root-finding (secant, steffen)!\")\n",
    "\n",
    "#It sets a precision for the iteration.\n",
    "the_epsilon = 2e-16\n",
    "\n",
    "#Initializes one of the values for the intival value(s).\n",
    "x1=float(xs[0])\n",
    "\n",
    "#The following is just to let the loop start, which is necessary for passing the condition that x1 and x0 are different.\n",
    "x0 = 123456789101112131415161718192021222324252627282930\n",
    "\n",
    "if the_method.lower().find(\"sec\")>-1:\n",
    "    x0 = xs[1] #For secant method two intial values are needed.\n",
    "    the_method = \"the secant\"\n",
    "    while abs(f(x1))>the_epsilon and abs(x0-x1)>2*the_epsilon:\n",
    "        x2 = x1 - f(x1)*(x1-x0)/(f(x1)-f(x0)) # Secant method formula\n",
    "        x0 = x1\n",
    "        x1 = x2\n",
    "    else:\n",
    "        solution = x2\n",
    "elif the_method.lower().find(\"stef\")>-1:\n",
    "    the_method = \"Steffensen's\"\n",
    "    while abs(f(x1))>the_epsilon and abs(x0-x1)>2*the_epsilon:\n",
    "        x0 = x1\n",
    "        x1 = x1 - f(x1)**2 / (f(x1 + f(x1)) - f(x1)) # Steffensen's method formula\n",
    "    else:\n",
    "        solution = x1\n",
    "else:\n",
    "    #It runs newton raphson method, by default.\n",
    "    the_method = \"the Newton-Raphson\"\n",
    "    while abs(f(x1))>the_epsilon and abs(x0-x1)>2*the_epsilon:\n",
    "        x0 = x1\n",
    "        x1 = x0 - 2 * the_epsilon * f(x0) / (f(x0 + the_epsilon) - f(x0- the_epsilon)) # Newton-Raphson method formula\n",
    "    else:\n",
    "        solution = x1\n",
    "\n",
    "print(\"Using {} method, the function f(x) = {} has the root: {}.\".format(the_method, function_string, solution))"
   ]
  },
  {
   "cell_type": "code",
   "execution_count": null,
   "id": "192dd63d-fe48-4fdd-9c7c-ab0fa3a88f2d",
   "metadata": {},
   "outputs": [],
   "source": []
  }
 ],
 "metadata": {
  "kernelspec": {
   "display_name": "Python 3",
   "language": "python",
   "name": "python3"
  },
  "language_info": {
   "codemirror_mode": {
    "name": "ipython",
    "version": 3
   },
   "file_extension": ".py",
   "mimetype": "text/x-python",
   "name": "python",
   "nbconvert_exporter": "python",
   "pygments_lexer": "ipython3",
   "version": "3.11.7"
  }
 },
 "nbformat": 4,
 "nbformat_minor": 5
}
